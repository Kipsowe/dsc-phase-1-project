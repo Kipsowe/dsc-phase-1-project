{
 "cells": [
  {
   "cell_type": "markdown",
   "metadata": {},
   "source": [
    "## Final Project Submission\n",
    "\n",
    "Please fill out:\n",
    "* Student name: KIPOWE KIMATUR EMMANUEL\n",
    "* Student pace: PART TIME\n",
    "* Scheduled project review date/time: 05/11/2023 2000HRS\n",
    "* Instructor name: SAMUEL JANE\n",
    "* Blog post URL:\n"
   ]
  },
  {
   "cell_type": "code",
   "execution_count": 1,
   "metadata": {},
   "outputs": [],
   "source": [
    "# Importation of neccesary libraries\n",
    "import pandas as pd\n",
    "import matplotlib.pyplot as plt\n",
    "import seaborn as sns"
   ]
  },
  {
   "cell_type": "code",
   "execution_count": 2,
   "metadata": {},
   "outputs": [],
   "source": [
    "# Reading the dataset files and loading them into dataframes as df1, df2 & df3 for \n",
    "# title basics, title ratings & movie gross csv files respectively.\n",
    "df1 = pd.read_csv(\"my_data/imdb.title.basics.csv.gz\")\n",
    "df2 = pd.read_csv(\"my_data/imdb.title.ratings.csv.gz\")\n",
    "df3 = pd.read_csv(\"my_data/bom.movie_gross.csv.gz\")"
   ]
  },
  {
   "cell_type": "markdown",
   "metadata": {},
   "source": [
    "# Datasets Exploration"
   ]
  },
  {
   "cell_type": "markdown",
   "metadata": {},
   "source": [
    "### Title basics dataset"
   ]
  },
  {
   "cell_type": "code",
   "execution_count": 3,
   "metadata": {},
   "outputs": [
    {
     "data": {
      "text/html": [
       "<div>\n",
       "<style scoped>\n",
       "    .dataframe tbody tr th:only-of-type {\n",
       "        vertical-align: middle;\n",
       "    }\n",
       "\n",
       "    .dataframe tbody tr th {\n",
       "        vertical-align: top;\n",
       "    }\n",
       "\n",
       "    .dataframe thead th {\n",
       "        text-align: right;\n",
       "    }\n",
       "</style>\n",
       "<table border=\"1\" class=\"dataframe\">\n",
       "  <thead>\n",
       "    <tr style=\"text-align: right;\">\n",
       "      <th></th>\n",
       "      <th>tconst</th>\n",
       "      <th>primary_title</th>\n",
       "      <th>original_title</th>\n",
       "      <th>start_year</th>\n",
       "      <th>runtime_minutes</th>\n",
       "      <th>genres</th>\n",
       "    </tr>\n",
       "  </thead>\n",
       "  <tbody>\n",
       "    <tr>\n",
       "      <th>0</th>\n",
       "      <td>tt0063540</td>\n",
       "      <td>Sunghursh</td>\n",
       "      <td>Sunghursh</td>\n",
       "      <td>2013</td>\n",
       "      <td>175.0</td>\n",
       "      <td>Action,Crime,Drama</td>\n",
       "    </tr>\n",
       "    <tr>\n",
       "      <th>1</th>\n",
       "      <td>tt0066787</td>\n",
       "      <td>One Day Before the Rainy Season</td>\n",
       "      <td>Ashad Ka Ek Din</td>\n",
       "      <td>2019</td>\n",
       "      <td>114.0</td>\n",
       "      <td>Biography,Drama</td>\n",
       "    </tr>\n",
       "    <tr>\n",
       "      <th>2</th>\n",
       "      <td>tt0069049</td>\n",
       "      <td>The Other Side of the Wind</td>\n",
       "      <td>The Other Side of the Wind</td>\n",
       "      <td>2018</td>\n",
       "      <td>122.0</td>\n",
       "      <td>Drama</td>\n",
       "    </tr>\n",
       "    <tr>\n",
       "      <th>3</th>\n",
       "      <td>tt0069204</td>\n",
       "      <td>Sabse Bada Sukh</td>\n",
       "      <td>Sabse Bada Sukh</td>\n",
       "      <td>2018</td>\n",
       "      <td>NaN</td>\n",
       "      <td>Comedy,Drama</td>\n",
       "    </tr>\n",
       "    <tr>\n",
       "      <th>4</th>\n",
       "      <td>tt0100275</td>\n",
       "      <td>The Wandering Soap Opera</td>\n",
       "      <td>La Telenovela Errante</td>\n",
       "      <td>2017</td>\n",
       "      <td>80.0</td>\n",
       "      <td>Comedy,Drama,Fantasy</td>\n",
       "    </tr>\n",
       "  </tbody>\n",
       "</table>\n",
       "</div>"
      ],
      "text/plain": [
       "      tconst                    primary_title              original_title  \\\n",
       "0  tt0063540                        Sunghursh                   Sunghursh   \n",
       "1  tt0066787  One Day Before the Rainy Season             Ashad Ka Ek Din   \n",
       "2  tt0069049       The Other Side of the Wind  The Other Side of the Wind   \n",
       "3  tt0069204                  Sabse Bada Sukh             Sabse Bada Sukh   \n",
       "4  tt0100275         The Wandering Soap Opera       La Telenovela Errante   \n",
       "\n",
       "   start_year  runtime_minutes                genres  \n",
       "0        2013            175.0    Action,Crime,Drama  \n",
       "1        2019            114.0       Biography,Drama  \n",
       "2        2018            122.0                 Drama  \n",
       "3        2018              NaN          Comedy,Drama  \n",
       "4        2017             80.0  Comedy,Drama,Fantasy  "
      ]
     },
     "execution_count": 3,
     "metadata": {},
     "output_type": "execute_result"
    }
   ],
   "source": [
    "# df1 is the dataframe for title basics dataset. \n",
    "# Viewing the first 5 rows of our dataset\n",
    "df1.head()"
   ]
  },
  {
   "cell_type": "code",
   "execution_count": 4,
   "metadata": {},
   "outputs": [
    {
     "data": {
      "text/html": [
       "<div>\n",
       "<style scoped>\n",
       "    .dataframe tbody tr th:only-of-type {\n",
       "        vertical-align: middle;\n",
       "    }\n",
       "\n",
       "    .dataframe tbody tr th {\n",
       "        vertical-align: top;\n",
       "    }\n",
       "\n",
       "    .dataframe thead th {\n",
       "        text-align: right;\n",
       "    }\n",
       "</style>\n",
       "<table border=\"1\" class=\"dataframe\">\n",
       "  <thead>\n",
       "    <tr style=\"text-align: right;\">\n",
       "      <th></th>\n",
       "      <th>tconst</th>\n",
       "      <th>primary_title</th>\n",
       "      <th>original_title</th>\n",
       "      <th>start_year</th>\n",
       "      <th>runtime_minutes</th>\n",
       "      <th>genres</th>\n",
       "    </tr>\n",
       "  </thead>\n",
       "  <tbody>\n",
       "    <tr>\n",
       "      <th>146139</th>\n",
       "      <td>tt9916538</td>\n",
       "      <td>Kuambil Lagi Hatiku</td>\n",
       "      <td>Kuambil Lagi Hatiku</td>\n",
       "      <td>2019</td>\n",
       "      <td>123.0</td>\n",
       "      <td>Drama</td>\n",
       "    </tr>\n",
       "    <tr>\n",
       "      <th>146140</th>\n",
       "      <td>tt9916622</td>\n",
       "      <td>Rodolpho Teóphilo - O Legado de um Pioneiro</td>\n",
       "      <td>Rodolpho Teóphilo - O Legado de um Pioneiro</td>\n",
       "      <td>2015</td>\n",
       "      <td>NaN</td>\n",
       "      <td>Documentary</td>\n",
       "    </tr>\n",
       "    <tr>\n",
       "      <th>146141</th>\n",
       "      <td>tt9916706</td>\n",
       "      <td>Dankyavar Danka</td>\n",
       "      <td>Dankyavar Danka</td>\n",
       "      <td>2013</td>\n",
       "      <td>NaN</td>\n",
       "      <td>Comedy</td>\n",
       "    </tr>\n",
       "    <tr>\n",
       "      <th>146142</th>\n",
       "      <td>tt9916730</td>\n",
       "      <td>6 Gunn</td>\n",
       "      <td>6 Gunn</td>\n",
       "      <td>2017</td>\n",
       "      <td>116.0</td>\n",
       "      <td>NaN</td>\n",
       "    </tr>\n",
       "    <tr>\n",
       "      <th>146143</th>\n",
       "      <td>tt9916754</td>\n",
       "      <td>Chico Albuquerque - Revelações</td>\n",
       "      <td>Chico Albuquerque - Revelações</td>\n",
       "      <td>2013</td>\n",
       "      <td>NaN</td>\n",
       "      <td>Documentary</td>\n",
       "    </tr>\n",
       "  </tbody>\n",
       "</table>\n",
       "</div>"
      ],
      "text/plain": [
       "           tconst                                primary_title  \\\n",
       "146139  tt9916538                          Kuambil Lagi Hatiku   \n",
       "146140  tt9916622  Rodolpho Teóphilo - O Legado de um Pioneiro   \n",
       "146141  tt9916706                              Dankyavar Danka   \n",
       "146142  tt9916730                                       6 Gunn   \n",
       "146143  tt9916754               Chico Albuquerque - Revelações   \n",
       "\n",
       "                                     original_title  start_year  \\\n",
       "146139                          Kuambil Lagi Hatiku        2019   \n",
       "146140  Rodolpho Teóphilo - O Legado de um Pioneiro        2015   \n",
       "146141                              Dankyavar Danka        2013   \n",
       "146142                                       6 Gunn        2017   \n",
       "146143               Chico Albuquerque - Revelações        2013   \n",
       "\n",
       "        runtime_minutes       genres  \n",
       "146139            123.0        Drama  \n",
       "146140              NaN  Documentary  \n",
       "146141              NaN       Comedy  \n",
       "146142            116.0          NaN  \n",
       "146143              NaN  Documentary  "
      ]
     },
     "execution_count": 4,
     "metadata": {},
     "output_type": "execute_result"
    }
   ],
   "source": [
    "# Viewing last 5 rows of the dataset\n",
    "df1.tail()"
   ]
  },
  {
   "cell_type": "code",
   "execution_count": 5,
   "metadata": {},
   "outputs": [
    {
     "data": {
      "text/plain": [
       "Index(['tconst', 'primary_title', 'original_title', 'start_year',\n",
       "       'runtime_minutes', 'genres'],\n",
       "      dtype='object')"
      ]
     },
     "execution_count": 5,
     "metadata": {},
     "output_type": "execute_result"
    }
   ],
   "source": [
    "# Getting the column names\n",
    "df1.columns"
   ]
  },
  {
   "cell_type": "code",
   "execution_count": 6,
   "metadata": {},
   "outputs": [
    {
     "data": {
      "text/plain": [
       "(146144, 6)"
      ]
     },
     "execution_count": 6,
     "metadata": {},
     "output_type": "execute_result"
    }
   ],
   "source": [
    "# Checking the number of rows and columns\n",
    "df1.shape"
   ]
  },
  {
   "cell_type": "markdown",
   "metadata": {},
   "source": [
    "We note that the title basics dataframe has 146144 rows and  6 columns."
   ]
  },
  {
   "cell_type": "code",
   "execution_count": 7,
   "metadata": {
    "scrolled": true
   },
   "outputs": [
    {
     "name": "stdout",
     "output_type": "stream",
     "text": [
      "<class 'pandas.core.frame.DataFrame'>\n",
      "RangeIndex: 146144 entries, 0 to 146143\n",
      "Data columns (total 6 columns):\n",
      " #   Column           Non-Null Count   Dtype  \n",
      "---  ------           --------------   -----  \n",
      " 0   tconst           146144 non-null  object \n",
      " 1   primary_title    146144 non-null  object \n",
      " 2   original_title   146123 non-null  object \n",
      " 3   start_year       146144 non-null  int64  \n",
      " 4   runtime_minutes  114405 non-null  float64\n",
      " 5   genres           140736 non-null  object \n",
      "dtypes: float64(1), int64(1), object(4)\n",
      "memory usage: 6.7+ MB\n"
     ]
    }
   ],
   "source": [
    "# A summary of the title basics dataframe\n",
    "df1.info()"
   ]
  },
  {
   "cell_type": "markdown",
   "metadata": {},
   "source": [
    "From the summary above,the title basics dataframe is made up of float64(1), int64(1) and object(4) datatypes.We also note that there are missing values in original_title, runtime_minutes and genre columns."
   ]
  },
  {
   "cell_type": "markdown",
   "metadata": {},
   "source": [
    "### Title ratings dataset\n"
   ]
  },
  {
   "cell_type": "code",
   "execution_count": 8,
   "metadata": {},
   "outputs": [
    {
     "data": {
      "text/html": [
       "<div>\n",
       "<style scoped>\n",
       "    .dataframe tbody tr th:only-of-type {\n",
       "        vertical-align: middle;\n",
       "    }\n",
       "\n",
       "    .dataframe tbody tr th {\n",
       "        vertical-align: top;\n",
       "    }\n",
       "\n",
       "    .dataframe thead th {\n",
       "        text-align: right;\n",
       "    }\n",
       "</style>\n",
       "<table border=\"1\" class=\"dataframe\">\n",
       "  <thead>\n",
       "    <tr style=\"text-align: right;\">\n",
       "      <th></th>\n",
       "      <th>tconst</th>\n",
       "      <th>averagerating</th>\n",
       "      <th>numvotes</th>\n",
       "    </tr>\n",
       "  </thead>\n",
       "  <tbody>\n",
       "    <tr>\n",
       "      <th>0</th>\n",
       "      <td>tt10356526</td>\n",
       "      <td>8.3</td>\n",
       "      <td>31</td>\n",
       "    </tr>\n",
       "    <tr>\n",
       "      <th>1</th>\n",
       "      <td>tt10384606</td>\n",
       "      <td>8.9</td>\n",
       "      <td>559</td>\n",
       "    </tr>\n",
       "    <tr>\n",
       "      <th>2</th>\n",
       "      <td>tt1042974</td>\n",
       "      <td>6.4</td>\n",
       "      <td>20</td>\n",
       "    </tr>\n",
       "    <tr>\n",
       "      <th>3</th>\n",
       "      <td>tt1043726</td>\n",
       "      <td>4.2</td>\n",
       "      <td>50352</td>\n",
       "    </tr>\n",
       "    <tr>\n",
       "      <th>4</th>\n",
       "      <td>tt1060240</td>\n",
       "      <td>6.5</td>\n",
       "      <td>21</td>\n",
       "    </tr>\n",
       "  </tbody>\n",
       "</table>\n",
       "</div>"
      ],
      "text/plain": [
       "       tconst  averagerating  numvotes\n",
       "0  tt10356526            8.3        31\n",
       "1  tt10384606            8.9       559\n",
       "2   tt1042974            6.4        20\n",
       "3   tt1043726            4.2     50352\n",
       "4   tt1060240            6.5        21"
      ]
     },
     "execution_count": 8,
     "metadata": {},
     "output_type": "execute_result"
    }
   ],
   "source": [
    "# df2 is the dataframe for title ratings dataset. \n",
    "# Viewing the first 5 rows of our dataset\n",
    "df2.head()"
   ]
  },
  {
   "cell_type": "code",
   "execution_count": 9,
   "metadata": {},
   "outputs": [
    {
     "data": {
      "text/html": [
       "<div>\n",
       "<style scoped>\n",
       "    .dataframe tbody tr th:only-of-type {\n",
       "        vertical-align: middle;\n",
       "    }\n",
       "\n",
       "    .dataframe tbody tr th {\n",
       "        vertical-align: top;\n",
       "    }\n",
       "\n",
       "    .dataframe thead th {\n",
       "        text-align: right;\n",
       "    }\n",
       "</style>\n",
       "<table border=\"1\" class=\"dataframe\">\n",
       "  <thead>\n",
       "    <tr style=\"text-align: right;\">\n",
       "      <th></th>\n",
       "      <th>tconst</th>\n",
       "      <th>averagerating</th>\n",
       "      <th>numvotes</th>\n",
       "    </tr>\n",
       "  </thead>\n",
       "  <tbody>\n",
       "    <tr>\n",
       "      <th>73851</th>\n",
       "      <td>tt9805820</td>\n",
       "      <td>8.1</td>\n",
       "      <td>25</td>\n",
       "    </tr>\n",
       "    <tr>\n",
       "      <th>73852</th>\n",
       "      <td>tt9844256</td>\n",
       "      <td>7.5</td>\n",
       "      <td>24</td>\n",
       "    </tr>\n",
       "    <tr>\n",
       "      <th>73853</th>\n",
       "      <td>tt9851050</td>\n",
       "      <td>4.7</td>\n",
       "      <td>14</td>\n",
       "    </tr>\n",
       "    <tr>\n",
       "      <th>73854</th>\n",
       "      <td>tt9886934</td>\n",
       "      <td>7.0</td>\n",
       "      <td>5</td>\n",
       "    </tr>\n",
       "    <tr>\n",
       "      <th>73855</th>\n",
       "      <td>tt9894098</td>\n",
       "      <td>6.3</td>\n",
       "      <td>128</td>\n",
       "    </tr>\n",
       "  </tbody>\n",
       "</table>\n",
       "</div>"
      ],
      "text/plain": [
       "          tconst  averagerating  numvotes\n",
       "73851  tt9805820            8.1        25\n",
       "73852  tt9844256            7.5        24\n",
       "73853  tt9851050            4.7        14\n",
       "73854  tt9886934            7.0         5\n",
       "73855  tt9894098            6.3       128"
      ]
     },
     "execution_count": 9,
     "metadata": {},
     "output_type": "execute_result"
    }
   ],
   "source": [
    "# Viewing last 5 rows of the dataset\n",
    "df2.tail()"
   ]
  },
  {
   "cell_type": "code",
   "execution_count": 10,
   "metadata": {},
   "outputs": [
    {
     "data": {
      "text/plain": [
       "Index(['tconst', 'averagerating', 'numvotes'], dtype='object')"
      ]
     },
     "execution_count": 10,
     "metadata": {},
     "output_type": "execute_result"
    }
   ],
   "source": [
    "# Getting the column names\n",
    "df2.columns"
   ]
  },
  {
   "cell_type": "code",
   "execution_count": 11,
   "metadata": {},
   "outputs": [
    {
     "data": {
      "text/plain": [
       "(73856, 3)"
      ]
     },
     "execution_count": 11,
     "metadata": {},
     "output_type": "execute_result"
    }
   ],
   "source": [
    "# Checking the number of rows and columns\n",
    "df2.shape"
   ]
  },
  {
   "cell_type": "markdown",
   "metadata": {},
   "source": [
    "We note that the title ratings dataframe has 73856 rows and  3 columns."
   ]
  },
  {
   "cell_type": "code",
   "execution_count": 12,
   "metadata": {},
   "outputs": [
    {
     "name": "stdout",
     "output_type": "stream",
     "text": [
      "<class 'pandas.core.frame.DataFrame'>\n",
      "RangeIndex: 73856 entries, 0 to 73855\n",
      "Data columns (total 3 columns):\n",
      " #   Column         Non-Null Count  Dtype  \n",
      "---  ------         --------------  -----  \n",
      " 0   tconst         73856 non-null  object \n",
      " 1   averagerating  73856 non-null  float64\n",
      " 2   numvotes       73856 non-null  int64  \n",
      "dtypes: float64(1), int64(1), object(1)\n",
      "memory usage: 1.7+ MB\n"
     ]
    }
   ],
   "source": [
    "# A summary of the title ratings dataframe\n",
    "df2.info()"
   ]
  },
  {
   "cell_type": "markdown",
   "metadata": {},
   "source": [
    "The summary above shows that the title ratings dataframe is made up of float64(1), int64(1) & object(1) datatypes with no null values for all the columns."
   ]
  },
  {
   "cell_type": "markdown",
   "metadata": {},
   "source": [
    "### Title movie_gross dataset\n"
   ]
  },
  {
   "cell_type": "code",
   "execution_count": 13,
   "metadata": {},
   "outputs": [
    {
     "data": {
      "text/html": [
       "<div>\n",
       "<style scoped>\n",
       "    .dataframe tbody tr th:only-of-type {\n",
       "        vertical-align: middle;\n",
       "    }\n",
       "\n",
       "    .dataframe tbody tr th {\n",
       "        vertical-align: top;\n",
       "    }\n",
       "\n",
       "    .dataframe thead th {\n",
       "        text-align: right;\n",
       "    }\n",
       "</style>\n",
       "<table border=\"1\" class=\"dataframe\">\n",
       "  <thead>\n",
       "    <tr style=\"text-align: right;\">\n",
       "      <th></th>\n",
       "      <th>title</th>\n",
       "      <th>studio</th>\n",
       "      <th>domestic_gross</th>\n",
       "      <th>foreign_gross</th>\n",
       "      <th>year</th>\n",
       "    </tr>\n",
       "  </thead>\n",
       "  <tbody>\n",
       "    <tr>\n",
       "      <th>0</th>\n",
       "      <td>Toy Story 3</td>\n",
       "      <td>BV</td>\n",
       "      <td>415000000.0</td>\n",
       "      <td>652000000</td>\n",
       "      <td>2010</td>\n",
       "    </tr>\n",
       "    <tr>\n",
       "      <th>1</th>\n",
       "      <td>Alice in Wonderland (2010)</td>\n",
       "      <td>BV</td>\n",
       "      <td>334200000.0</td>\n",
       "      <td>691300000</td>\n",
       "      <td>2010</td>\n",
       "    </tr>\n",
       "    <tr>\n",
       "      <th>2</th>\n",
       "      <td>Harry Potter and the Deathly Hallows Part 1</td>\n",
       "      <td>WB</td>\n",
       "      <td>296000000.0</td>\n",
       "      <td>664300000</td>\n",
       "      <td>2010</td>\n",
       "    </tr>\n",
       "    <tr>\n",
       "      <th>3</th>\n",
       "      <td>Inception</td>\n",
       "      <td>WB</td>\n",
       "      <td>292600000.0</td>\n",
       "      <td>535700000</td>\n",
       "      <td>2010</td>\n",
       "    </tr>\n",
       "    <tr>\n",
       "      <th>4</th>\n",
       "      <td>Shrek Forever After</td>\n",
       "      <td>P/DW</td>\n",
       "      <td>238700000.0</td>\n",
       "      <td>513900000</td>\n",
       "      <td>2010</td>\n",
       "    </tr>\n",
       "  </tbody>\n",
       "</table>\n",
       "</div>"
      ],
      "text/plain": [
       "                                         title studio  domestic_gross  \\\n",
       "0                                  Toy Story 3     BV     415000000.0   \n",
       "1                   Alice in Wonderland (2010)     BV     334200000.0   \n",
       "2  Harry Potter and the Deathly Hallows Part 1     WB     296000000.0   \n",
       "3                                    Inception     WB     292600000.0   \n",
       "4                          Shrek Forever After   P/DW     238700000.0   \n",
       "\n",
       "  foreign_gross  year  \n",
       "0     652000000  2010  \n",
       "1     691300000  2010  \n",
       "2     664300000  2010  \n",
       "3     535700000  2010  \n",
       "4     513900000  2010  "
      ]
     },
     "execution_count": 13,
     "metadata": {},
     "output_type": "execute_result"
    }
   ],
   "source": [
    "# df3 is the dataframe for movie_gross dataset. \n",
    "# Viewing the first 5 rows of our dataset\n",
    "df3.head()"
   ]
  },
  {
   "cell_type": "code",
   "execution_count": 14,
   "metadata": {},
   "outputs": [
    {
     "data": {
      "text/html": [
       "<div>\n",
       "<style scoped>\n",
       "    .dataframe tbody tr th:only-of-type {\n",
       "        vertical-align: middle;\n",
       "    }\n",
       "\n",
       "    .dataframe tbody tr th {\n",
       "        vertical-align: top;\n",
       "    }\n",
       "\n",
       "    .dataframe thead th {\n",
       "        text-align: right;\n",
       "    }\n",
       "</style>\n",
       "<table border=\"1\" class=\"dataframe\">\n",
       "  <thead>\n",
       "    <tr style=\"text-align: right;\">\n",
       "      <th></th>\n",
       "      <th>title</th>\n",
       "      <th>studio</th>\n",
       "      <th>domestic_gross</th>\n",
       "      <th>foreign_gross</th>\n",
       "      <th>year</th>\n",
       "    </tr>\n",
       "  </thead>\n",
       "  <tbody>\n",
       "    <tr>\n",
       "      <th>3382</th>\n",
       "      <td>The Quake</td>\n",
       "      <td>Magn.</td>\n",
       "      <td>6200.0</td>\n",
       "      <td>NaN</td>\n",
       "      <td>2018</td>\n",
       "    </tr>\n",
       "    <tr>\n",
       "      <th>3383</th>\n",
       "      <td>Edward II (2018 re-release)</td>\n",
       "      <td>FM</td>\n",
       "      <td>4800.0</td>\n",
       "      <td>NaN</td>\n",
       "      <td>2018</td>\n",
       "    </tr>\n",
       "    <tr>\n",
       "      <th>3384</th>\n",
       "      <td>El Pacto</td>\n",
       "      <td>Sony</td>\n",
       "      <td>2500.0</td>\n",
       "      <td>NaN</td>\n",
       "      <td>2018</td>\n",
       "    </tr>\n",
       "    <tr>\n",
       "      <th>3385</th>\n",
       "      <td>The Swan</td>\n",
       "      <td>Synergetic</td>\n",
       "      <td>2400.0</td>\n",
       "      <td>NaN</td>\n",
       "      <td>2018</td>\n",
       "    </tr>\n",
       "    <tr>\n",
       "      <th>3386</th>\n",
       "      <td>An Actor Prepares</td>\n",
       "      <td>Grav.</td>\n",
       "      <td>1700.0</td>\n",
       "      <td>NaN</td>\n",
       "      <td>2018</td>\n",
       "    </tr>\n",
       "  </tbody>\n",
       "</table>\n",
       "</div>"
      ],
      "text/plain": [
       "                            title      studio  domestic_gross foreign_gross  \\\n",
       "3382                    The Quake       Magn.          6200.0           NaN   \n",
       "3383  Edward II (2018 re-release)          FM          4800.0           NaN   \n",
       "3384                     El Pacto        Sony          2500.0           NaN   \n",
       "3385                     The Swan  Synergetic          2400.0           NaN   \n",
       "3386            An Actor Prepares       Grav.          1700.0           NaN   \n",
       "\n",
       "      year  \n",
       "3382  2018  \n",
       "3383  2018  \n",
       "3384  2018  \n",
       "3385  2018  \n",
       "3386  2018  "
      ]
     },
     "execution_count": 14,
     "metadata": {},
     "output_type": "execute_result"
    }
   ],
   "source": [
    "# Viewing last 5 rows of the dataset\n",
    "df3.tail()"
   ]
  },
  {
   "cell_type": "code",
   "execution_count": 15,
   "metadata": {},
   "outputs": [
    {
     "data": {
      "text/plain": [
       "Index(['title', 'studio', 'domestic_gross', 'foreign_gross', 'year'], dtype='object')"
      ]
     },
     "execution_count": 15,
     "metadata": {},
     "output_type": "execute_result"
    }
   ],
   "source": [
    "# Getting the column names\n",
    "df3.columns"
   ]
  },
  {
   "cell_type": "code",
   "execution_count": 16,
   "metadata": {},
   "outputs": [
    {
     "data": {
      "text/plain": [
       "(3387, 5)"
      ]
     },
     "execution_count": 16,
     "metadata": {},
     "output_type": "execute_result"
    }
   ],
   "source": [
    "# Checking the number of rows and columns\n",
    "df3.shape"
   ]
  },
  {
   "cell_type": "markdown",
   "metadata": {},
   "source": [
    "The movie_gross dataframe has 73856 rows and  3 columns."
   ]
  },
  {
   "cell_type": "code",
   "execution_count": 17,
   "metadata": {},
   "outputs": [
    {
     "name": "stdout",
     "output_type": "stream",
     "text": [
      "<class 'pandas.core.frame.DataFrame'>\n",
      "RangeIndex: 3387 entries, 0 to 3386\n",
      "Data columns (total 5 columns):\n",
      " #   Column          Non-Null Count  Dtype  \n",
      "---  ------          --------------  -----  \n",
      " 0   title           3387 non-null   object \n",
      " 1   studio          3382 non-null   object \n",
      " 2   domestic_gross  3359 non-null   float64\n",
      " 3   foreign_gross   2037 non-null   object \n",
      " 4   year            3387 non-null   int64  \n",
      "dtypes: float64(1), int64(1), object(3)\n",
      "memory usage: 132.4+ KB\n"
     ]
    }
   ],
   "source": [
    "# A summary of the title ratings dataframe\n",
    "df3.info()"
   ]
  },
  {
   "cell_type": "markdown",
   "metadata": {},
   "source": [
    "The movie_gross dataframe has null values on the studio, domestic_gross and foreign_gross columns."
   ]
  },
  {
   "cell_type": "markdown",
   "metadata": {},
   "source": [
    "## Merging the Datasets"
   ]
  },
  {
   "cell_type": "code",
   "execution_count": 18,
   "metadata": {},
   "outputs": [],
   "source": [
    " # Mergiging the first two dataframes df1 and df2  using the common column tconst\n",
    "first_merge = pd.merge(df1, df2, on = \"tconst\")"
   ]
  },
  {
   "cell_type": "code",
   "execution_count": 19,
   "metadata": {},
   "outputs": [
    {
     "data": {
      "text/html": [
       "<div>\n",
       "<style scoped>\n",
       "    .dataframe tbody tr th:only-of-type {\n",
       "        vertical-align: middle;\n",
       "    }\n",
       "\n",
       "    .dataframe tbody tr th {\n",
       "        vertical-align: top;\n",
       "    }\n",
       "\n",
       "    .dataframe thead th {\n",
       "        text-align: right;\n",
       "    }\n",
       "</style>\n",
       "<table border=\"1\" class=\"dataframe\">\n",
       "  <thead>\n",
       "    <tr style=\"text-align: right;\">\n",
       "      <th></th>\n",
       "      <th>tconst</th>\n",
       "      <th>primary_title</th>\n",
       "      <th>original_title</th>\n",
       "      <th>start_year</th>\n",
       "      <th>runtime_minutes</th>\n",
       "      <th>genres</th>\n",
       "      <th>averagerating</th>\n",
       "      <th>numvotes</th>\n",
       "    </tr>\n",
       "  </thead>\n",
       "  <tbody>\n",
       "    <tr>\n",
       "      <th>0</th>\n",
       "      <td>tt0063540</td>\n",
       "      <td>Sunghursh</td>\n",
       "      <td>Sunghursh</td>\n",
       "      <td>2013</td>\n",
       "      <td>175.0</td>\n",
       "      <td>Action,Crime,Drama</td>\n",
       "      <td>7.0</td>\n",
       "      <td>77</td>\n",
       "    </tr>\n",
       "    <tr>\n",
       "      <th>1</th>\n",
       "      <td>tt0066787</td>\n",
       "      <td>One Day Before the Rainy Season</td>\n",
       "      <td>Ashad Ka Ek Din</td>\n",
       "      <td>2019</td>\n",
       "      <td>114.0</td>\n",
       "      <td>Biography,Drama</td>\n",
       "      <td>7.2</td>\n",
       "      <td>43</td>\n",
       "    </tr>\n",
       "    <tr>\n",
       "      <th>2</th>\n",
       "      <td>tt0069049</td>\n",
       "      <td>The Other Side of the Wind</td>\n",
       "      <td>The Other Side of the Wind</td>\n",
       "      <td>2018</td>\n",
       "      <td>122.0</td>\n",
       "      <td>Drama</td>\n",
       "      <td>6.9</td>\n",
       "      <td>4517</td>\n",
       "    </tr>\n",
       "    <tr>\n",
       "      <th>3</th>\n",
       "      <td>tt0069204</td>\n",
       "      <td>Sabse Bada Sukh</td>\n",
       "      <td>Sabse Bada Sukh</td>\n",
       "      <td>2018</td>\n",
       "      <td>NaN</td>\n",
       "      <td>Comedy,Drama</td>\n",
       "      <td>6.1</td>\n",
       "      <td>13</td>\n",
       "    </tr>\n",
       "    <tr>\n",
       "      <th>4</th>\n",
       "      <td>tt0100275</td>\n",
       "      <td>The Wandering Soap Opera</td>\n",
       "      <td>La Telenovela Errante</td>\n",
       "      <td>2017</td>\n",
       "      <td>80.0</td>\n",
       "      <td>Comedy,Drama,Fantasy</td>\n",
       "      <td>6.5</td>\n",
       "      <td>119</td>\n",
       "    </tr>\n",
       "  </tbody>\n",
       "</table>\n",
       "</div>"
      ],
      "text/plain": [
       "      tconst                    primary_title              original_title  \\\n",
       "0  tt0063540                        Sunghursh                   Sunghursh   \n",
       "1  tt0066787  One Day Before the Rainy Season             Ashad Ka Ek Din   \n",
       "2  tt0069049       The Other Side of the Wind  The Other Side of the Wind   \n",
       "3  tt0069204                  Sabse Bada Sukh             Sabse Bada Sukh   \n",
       "4  tt0100275         The Wandering Soap Opera       La Telenovela Errante   \n",
       "\n",
       "   start_year  runtime_minutes                genres  averagerating  numvotes  \n",
       "0        2013            175.0    Action,Crime,Drama            7.0        77  \n",
       "1        2019            114.0       Biography,Drama            7.2        43  \n",
       "2        2018            122.0                 Drama            6.9      4517  \n",
       "3        2018              NaN          Comedy,Drama            6.1        13  \n",
       "4        2017             80.0  Comedy,Drama,Fantasy            6.5       119  "
      ]
     },
     "execution_count": 19,
     "metadata": {},
     "output_type": "execute_result"
    }
   ],
   "source": [
    "first_merge.head()"
   ]
  },
  {
   "cell_type": "code",
   "execution_count": 20,
   "metadata": {},
   "outputs": [
    {
     "data": {
      "text/html": [
       "<div>\n",
       "<style scoped>\n",
       "    .dataframe tbody tr th:only-of-type {\n",
       "        vertical-align: middle;\n",
       "    }\n",
       "\n",
       "    .dataframe tbody tr th {\n",
       "        vertical-align: top;\n",
       "    }\n",
       "\n",
       "    .dataframe thead th {\n",
       "        text-align: right;\n",
       "    }\n",
       "</style>\n",
       "<table border=\"1\" class=\"dataframe\">\n",
       "  <thead>\n",
       "    <tr style=\"text-align: right;\">\n",
       "      <th></th>\n",
       "      <th>tconst</th>\n",
       "      <th>primary_title</th>\n",
       "      <th>original_title</th>\n",
       "      <th>start_year</th>\n",
       "      <th>runtime_minutes</th>\n",
       "      <th>genres</th>\n",
       "      <th>averagerating</th>\n",
       "      <th>numvotes</th>\n",
       "    </tr>\n",
       "  </thead>\n",
       "  <tbody>\n",
       "    <tr>\n",
       "      <th>73851</th>\n",
       "      <td>tt9913084</td>\n",
       "      <td>Diabolik sono io</td>\n",
       "      <td>Diabolik sono io</td>\n",
       "      <td>2019</td>\n",
       "      <td>75.0</td>\n",
       "      <td>Documentary</td>\n",
       "      <td>6.2</td>\n",
       "      <td>6</td>\n",
       "    </tr>\n",
       "    <tr>\n",
       "      <th>73852</th>\n",
       "      <td>tt9914286</td>\n",
       "      <td>Sokagin Çocuklari</td>\n",
       "      <td>Sokagin Çocuklari</td>\n",
       "      <td>2019</td>\n",
       "      <td>98.0</td>\n",
       "      <td>Drama,Family</td>\n",
       "      <td>8.7</td>\n",
       "      <td>136</td>\n",
       "    </tr>\n",
       "    <tr>\n",
       "      <th>73853</th>\n",
       "      <td>tt9914642</td>\n",
       "      <td>Albatross</td>\n",
       "      <td>Albatross</td>\n",
       "      <td>2017</td>\n",
       "      <td>NaN</td>\n",
       "      <td>Documentary</td>\n",
       "      <td>8.5</td>\n",
       "      <td>8</td>\n",
       "    </tr>\n",
       "    <tr>\n",
       "      <th>73854</th>\n",
       "      <td>tt9914942</td>\n",
       "      <td>La vida sense la Sara Amat</td>\n",
       "      <td>La vida sense la Sara Amat</td>\n",
       "      <td>2019</td>\n",
       "      <td>NaN</td>\n",
       "      <td>NaN</td>\n",
       "      <td>6.6</td>\n",
       "      <td>5</td>\n",
       "    </tr>\n",
       "    <tr>\n",
       "      <th>73855</th>\n",
       "      <td>tt9916160</td>\n",
       "      <td>Drømmeland</td>\n",
       "      <td>Drømmeland</td>\n",
       "      <td>2019</td>\n",
       "      <td>72.0</td>\n",
       "      <td>Documentary</td>\n",
       "      <td>6.5</td>\n",
       "      <td>11</td>\n",
       "    </tr>\n",
       "  </tbody>\n",
       "</table>\n",
       "</div>"
      ],
      "text/plain": [
       "          tconst               primary_title              original_title  \\\n",
       "73851  tt9913084            Diabolik sono io            Diabolik sono io   \n",
       "73852  tt9914286           Sokagin Çocuklari           Sokagin Çocuklari   \n",
       "73853  tt9914642                   Albatross                   Albatross   \n",
       "73854  tt9914942  La vida sense la Sara Amat  La vida sense la Sara Amat   \n",
       "73855  tt9916160                  Drømmeland                  Drømmeland   \n",
       "\n",
       "       start_year  runtime_minutes        genres  averagerating  numvotes  \n",
       "73851        2019             75.0   Documentary            6.2         6  \n",
       "73852        2019             98.0  Drama,Family            8.7       136  \n",
       "73853        2017              NaN   Documentary            8.5         8  \n",
       "73854        2019              NaN           NaN            6.6         5  \n",
       "73855        2019             72.0   Documentary            6.5        11  "
      ]
     },
     "execution_count": 20,
     "metadata": {},
     "output_type": "execute_result"
    }
   ],
   "source": [
    "first_merge.tail()"
   ]
  },
  {
   "cell_type": "code",
   "execution_count": 21,
   "metadata": {},
   "outputs": [
    {
     "data": {
      "text/plain": [
       "(73856, 8)"
      ]
     },
     "execution_count": 21,
     "metadata": {},
     "output_type": "execute_result"
    }
   ],
   "source": [
    "first_merge.shape"
   ]
  },
  {
   "cell_type": "code",
   "execution_count": 22,
   "metadata": {},
   "outputs": [
    {
     "data": {
      "text/html": [
       "<div>\n",
       "<style scoped>\n",
       "    .dataframe tbody tr th:only-of-type {\n",
       "        vertical-align: middle;\n",
       "    }\n",
       "\n",
       "    .dataframe tbody tr th {\n",
       "        vertical-align: top;\n",
       "    }\n",
       "\n",
       "    .dataframe thead th {\n",
       "        text-align: right;\n",
       "    }\n",
       "</style>\n",
       "<table border=\"1\" class=\"dataframe\">\n",
       "  <thead>\n",
       "    <tr style=\"text-align: right;\">\n",
       "      <th></th>\n",
       "      <th>title</th>\n",
       "      <th>studio</th>\n",
       "      <th>domestic_gross</th>\n",
       "      <th>foreign_gross</th>\n",
       "      <th>year</th>\n",
       "    </tr>\n",
       "  </thead>\n",
       "  <tbody>\n",
       "    <tr>\n",
       "      <th>0</th>\n",
       "      <td>Toy Story 3</td>\n",
       "      <td>BV</td>\n",
       "      <td>415000000.0</td>\n",
       "      <td>652000000</td>\n",
       "      <td>2010</td>\n",
       "    </tr>\n",
       "    <tr>\n",
       "      <th>1</th>\n",
       "      <td>Alice in Wonderland (2010)</td>\n",
       "      <td>BV</td>\n",
       "      <td>334200000.0</td>\n",
       "      <td>691300000</td>\n",
       "      <td>2010</td>\n",
       "    </tr>\n",
       "    <tr>\n",
       "      <th>2</th>\n",
       "      <td>Harry Potter and the Deathly Hallows Part 1</td>\n",
       "      <td>WB</td>\n",
       "      <td>296000000.0</td>\n",
       "      <td>664300000</td>\n",
       "      <td>2010</td>\n",
       "    </tr>\n",
       "    <tr>\n",
       "      <th>3</th>\n",
       "      <td>Inception</td>\n",
       "      <td>WB</td>\n",
       "      <td>292600000.0</td>\n",
       "      <td>535700000</td>\n",
       "      <td>2010</td>\n",
       "    </tr>\n",
       "    <tr>\n",
       "      <th>4</th>\n",
       "      <td>Shrek Forever After</td>\n",
       "      <td>P/DW</td>\n",
       "      <td>238700000.0</td>\n",
       "      <td>513900000</td>\n",
       "      <td>2010</td>\n",
       "    </tr>\n",
       "  </tbody>\n",
       "</table>\n",
       "</div>"
      ],
      "text/plain": [
       "                                         title studio  domestic_gross  \\\n",
       "0                                  Toy Story 3     BV     415000000.0   \n",
       "1                   Alice in Wonderland (2010)     BV     334200000.0   \n",
       "2  Harry Potter and the Deathly Hallows Part 1     WB     296000000.0   \n",
       "3                                    Inception     WB     292600000.0   \n",
       "4                          Shrek Forever After   P/DW     238700000.0   \n",
       "\n",
       "  foreign_gross  year  \n",
       "0     652000000  2010  \n",
       "1     691300000  2010  \n",
       "2     664300000  2010  \n",
       "3     535700000  2010  \n",
       "4     513900000  2010  "
      ]
     },
     "execution_count": 22,
     "metadata": {},
     "output_type": "execute_result"
    }
   ],
   "source": [
    "df3.head()"
   ]
  },
  {
   "cell_type": "code",
   "execution_count": 23,
   "metadata": {},
   "outputs": [
    {
     "data": {
      "text/html": [
       "<div>\n",
       "<style scoped>\n",
       "    .dataframe tbody tr th:only-of-type {\n",
       "        vertical-align: middle;\n",
       "    }\n",
       "\n",
       "    .dataframe tbody tr th {\n",
       "        vertical-align: top;\n",
       "    }\n",
       "\n",
       "    .dataframe thead th {\n",
       "        text-align: right;\n",
       "    }\n",
       "</style>\n",
       "<table border=\"1\" class=\"dataframe\">\n",
       "  <thead>\n",
       "    <tr style=\"text-align: right;\">\n",
       "      <th></th>\n",
       "      <th>title</th>\n",
       "      <th>studio</th>\n",
       "      <th>domestic_gross</th>\n",
       "      <th>foreign_gross</th>\n",
       "      <th>year</th>\n",
       "    </tr>\n",
       "  </thead>\n",
       "  <tbody>\n",
       "    <tr>\n",
       "      <th>3382</th>\n",
       "      <td>The Quake</td>\n",
       "      <td>Magn.</td>\n",
       "      <td>6200.0</td>\n",
       "      <td>NaN</td>\n",
       "      <td>2018</td>\n",
       "    </tr>\n",
       "    <tr>\n",
       "      <th>3383</th>\n",
       "      <td>Edward II (2018 re-release)</td>\n",
       "      <td>FM</td>\n",
       "      <td>4800.0</td>\n",
       "      <td>NaN</td>\n",
       "      <td>2018</td>\n",
       "    </tr>\n",
       "    <tr>\n",
       "      <th>3384</th>\n",
       "      <td>El Pacto</td>\n",
       "      <td>Sony</td>\n",
       "      <td>2500.0</td>\n",
       "      <td>NaN</td>\n",
       "      <td>2018</td>\n",
       "    </tr>\n",
       "    <tr>\n",
       "      <th>3385</th>\n",
       "      <td>The Swan</td>\n",
       "      <td>Synergetic</td>\n",
       "      <td>2400.0</td>\n",
       "      <td>NaN</td>\n",
       "      <td>2018</td>\n",
       "    </tr>\n",
       "    <tr>\n",
       "      <th>3386</th>\n",
       "      <td>An Actor Prepares</td>\n",
       "      <td>Grav.</td>\n",
       "      <td>1700.0</td>\n",
       "      <td>NaN</td>\n",
       "      <td>2018</td>\n",
       "    </tr>\n",
       "  </tbody>\n",
       "</table>\n",
       "</div>"
      ],
      "text/plain": [
       "                            title      studio  domestic_gross foreign_gross  \\\n",
       "3382                    The Quake       Magn.          6200.0           NaN   \n",
       "3383  Edward II (2018 re-release)          FM          4800.0           NaN   \n",
       "3384                     El Pacto        Sony          2500.0           NaN   \n",
       "3385                     The Swan  Synergetic          2400.0           NaN   \n",
       "3386            An Actor Prepares       Grav.          1700.0           NaN   \n",
       "\n",
       "      year  \n",
       "3382  2018  \n",
       "3383  2018  \n",
       "3384  2018  \n",
       "3385  2018  \n",
       "3386  2018  "
      ]
     },
     "execution_count": 23,
     "metadata": {},
     "output_type": "execute_result"
    }
   ],
   "source": [
    "df3.tail()"
   ]
  },
  {
   "cell_type": "code",
   "execution_count": 24,
   "metadata": {},
   "outputs": [],
   "source": [
    "# We note that the column named title on the movie_gross(df3) dataframe carry same contents as the original_title on the first_merge data frame.\n",
    "# Renaming of column named title to original_title on the df3 dataframe(movie_gross)\n",
    "df3 = df3.rename(columns={'title': 'original_title'})"
   ]
  },
  {
   "cell_type": "code",
   "execution_count": 25,
   "metadata": {},
   "outputs": [
    {
     "data": {
      "text/html": [
       "<div>\n",
       "<style scoped>\n",
       "    .dataframe tbody tr th:only-of-type {\n",
       "        vertical-align: middle;\n",
       "    }\n",
       "\n",
       "    .dataframe tbody tr th {\n",
       "        vertical-align: top;\n",
       "    }\n",
       "\n",
       "    .dataframe thead th {\n",
       "        text-align: right;\n",
       "    }\n",
       "</style>\n",
       "<table border=\"1\" class=\"dataframe\">\n",
       "  <thead>\n",
       "    <tr style=\"text-align: right;\">\n",
       "      <th></th>\n",
       "      <th>original_title</th>\n",
       "      <th>studio</th>\n",
       "      <th>domestic_gross</th>\n",
       "      <th>foreign_gross</th>\n",
       "      <th>year</th>\n",
       "    </tr>\n",
       "  </thead>\n",
       "  <tbody>\n",
       "    <tr>\n",
       "      <th>0</th>\n",
       "      <td>Toy Story 3</td>\n",
       "      <td>BV</td>\n",
       "      <td>415000000.0</td>\n",
       "      <td>652000000</td>\n",
       "      <td>2010</td>\n",
       "    </tr>\n",
       "    <tr>\n",
       "      <th>1</th>\n",
       "      <td>Alice in Wonderland (2010)</td>\n",
       "      <td>BV</td>\n",
       "      <td>334200000.0</td>\n",
       "      <td>691300000</td>\n",
       "      <td>2010</td>\n",
       "    </tr>\n",
       "    <tr>\n",
       "      <th>2</th>\n",
       "      <td>Harry Potter and the Deathly Hallows Part 1</td>\n",
       "      <td>WB</td>\n",
       "      <td>296000000.0</td>\n",
       "      <td>664300000</td>\n",
       "      <td>2010</td>\n",
       "    </tr>\n",
       "    <tr>\n",
       "      <th>3</th>\n",
       "      <td>Inception</td>\n",
       "      <td>WB</td>\n",
       "      <td>292600000.0</td>\n",
       "      <td>535700000</td>\n",
       "      <td>2010</td>\n",
       "    </tr>\n",
       "    <tr>\n",
       "      <th>4</th>\n",
       "      <td>Shrek Forever After</td>\n",
       "      <td>P/DW</td>\n",
       "      <td>238700000.0</td>\n",
       "      <td>513900000</td>\n",
       "      <td>2010</td>\n",
       "    </tr>\n",
       "  </tbody>\n",
       "</table>\n",
       "</div>"
      ],
      "text/plain": [
       "                                original_title studio  domestic_gross  \\\n",
       "0                                  Toy Story 3     BV     415000000.0   \n",
       "1                   Alice in Wonderland (2010)     BV     334200000.0   \n",
       "2  Harry Potter and the Deathly Hallows Part 1     WB     296000000.0   \n",
       "3                                    Inception     WB     292600000.0   \n",
       "4                          Shrek Forever After   P/DW     238700000.0   \n",
       "\n",
       "  foreign_gross  year  \n",
       "0     652000000  2010  \n",
       "1     691300000  2010  \n",
       "2     664300000  2010  \n",
       "3     535700000  2010  \n",
       "4     513900000  2010  "
      ]
     },
     "execution_count": 25,
     "metadata": {},
     "output_type": "execute_result"
    }
   ],
   "source": [
    "# Checking if the changes have been effected\n",
    "df3.head()"
   ]
  },
  {
   "cell_type": "code",
   "execution_count": 26,
   "metadata": {},
   "outputs": [],
   "source": [
    "# Now that we have a common column 'original_title', We merge first_merge with df3\n",
    "df = pd.merge(first_merge, df3, on = \"original_title\")"
   ]
  },
  {
   "cell_type": "code",
   "execution_count": 27,
   "metadata": {},
   "outputs": [
    {
     "data": {
      "text/html": [
       "<div>\n",
       "<style scoped>\n",
       "    .dataframe tbody tr th:only-of-type {\n",
       "        vertical-align: middle;\n",
       "    }\n",
       "\n",
       "    .dataframe tbody tr th {\n",
       "        vertical-align: top;\n",
       "    }\n",
       "\n",
       "    .dataframe thead th {\n",
       "        text-align: right;\n",
       "    }\n",
       "</style>\n",
       "<table border=\"1\" class=\"dataframe\">\n",
       "  <thead>\n",
       "    <tr style=\"text-align: right;\">\n",
       "      <th></th>\n",
       "      <th>tconst</th>\n",
       "      <th>primary_title</th>\n",
       "      <th>original_title</th>\n",
       "      <th>start_year</th>\n",
       "      <th>runtime_minutes</th>\n",
       "      <th>genres</th>\n",
       "      <th>averagerating</th>\n",
       "      <th>numvotes</th>\n",
       "      <th>studio</th>\n",
       "      <th>domestic_gross</th>\n",
       "      <th>foreign_gross</th>\n",
       "      <th>year</th>\n",
       "    </tr>\n",
       "  </thead>\n",
       "  <tbody>\n",
       "    <tr>\n",
       "      <th>0</th>\n",
       "      <td>tt0315642</td>\n",
       "      <td>Wazir</td>\n",
       "      <td>Wazir</td>\n",
       "      <td>2016</td>\n",
       "      <td>103.0</td>\n",
       "      <td>Action,Crime,Drama</td>\n",
       "      <td>7.1</td>\n",
       "      <td>15378</td>\n",
       "      <td>Relbig.</td>\n",
       "      <td>1100000.0</td>\n",
       "      <td>NaN</td>\n",
       "      <td>2016</td>\n",
       "    </tr>\n",
       "    <tr>\n",
       "      <th>1</th>\n",
       "      <td>tt0337692</td>\n",
       "      <td>On the Road</td>\n",
       "      <td>On the Road</td>\n",
       "      <td>2012</td>\n",
       "      <td>124.0</td>\n",
       "      <td>Adventure,Drama,Romance</td>\n",
       "      <td>6.1</td>\n",
       "      <td>37886</td>\n",
       "      <td>IFC</td>\n",
       "      <td>744000.0</td>\n",
       "      <td>8000000</td>\n",
       "      <td>2012</td>\n",
       "    </tr>\n",
       "    <tr>\n",
       "      <th>2</th>\n",
       "      <td>tt4339118</td>\n",
       "      <td>On the Road</td>\n",
       "      <td>On the Road</td>\n",
       "      <td>2014</td>\n",
       "      <td>89.0</td>\n",
       "      <td>Drama</td>\n",
       "      <td>6.0</td>\n",
       "      <td>6</td>\n",
       "      <td>IFC</td>\n",
       "      <td>744000.0</td>\n",
       "      <td>8000000</td>\n",
       "      <td>2012</td>\n",
       "    </tr>\n",
       "    <tr>\n",
       "      <th>3</th>\n",
       "      <td>tt5647250</td>\n",
       "      <td>On the Road</td>\n",
       "      <td>On the Road</td>\n",
       "      <td>2016</td>\n",
       "      <td>121.0</td>\n",
       "      <td>Drama</td>\n",
       "      <td>5.7</td>\n",
       "      <td>127</td>\n",
       "      <td>IFC</td>\n",
       "      <td>744000.0</td>\n",
       "      <td>8000000</td>\n",
       "      <td>2012</td>\n",
       "    </tr>\n",
       "    <tr>\n",
       "      <th>4</th>\n",
       "      <td>tt0359950</td>\n",
       "      <td>The Secret Life of Walter Mitty</td>\n",
       "      <td>The Secret Life of Walter Mitty</td>\n",
       "      <td>2013</td>\n",
       "      <td>114.0</td>\n",
       "      <td>Adventure,Comedy,Drama</td>\n",
       "      <td>7.3</td>\n",
       "      <td>275300</td>\n",
       "      <td>Fox</td>\n",
       "      <td>58200000.0</td>\n",
       "      <td>129900000</td>\n",
       "      <td>2013</td>\n",
       "    </tr>\n",
       "  </tbody>\n",
       "</table>\n",
       "</div>"
      ],
      "text/plain": [
       "      tconst                    primary_title  \\\n",
       "0  tt0315642                            Wazir   \n",
       "1  tt0337692                      On the Road   \n",
       "2  tt4339118                      On the Road   \n",
       "3  tt5647250                      On the Road   \n",
       "4  tt0359950  The Secret Life of Walter Mitty   \n",
       "\n",
       "                    original_title  start_year  runtime_minutes  \\\n",
       "0                            Wazir        2016            103.0   \n",
       "1                      On the Road        2012            124.0   \n",
       "2                      On the Road        2014             89.0   \n",
       "3                      On the Road        2016            121.0   \n",
       "4  The Secret Life of Walter Mitty        2013            114.0   \n",
       "\n",
       "                    genres  averagerating  numvotes   studio  domestic_gross  \\\n",
       "0       Action,Crime,Drama            7.1     15378  Relbig.       1100000.0   \n",
       "1  Adventure,Drama,Romance            6.1     37886      IFC        744000.0   \n",
       "2                    Drama            6.0         6      IFC        744000.0   \n",
       "3                    Drama            5.7       127      IFC        744000.0   \n",
       "4   Adventure,Comedy,Drama            7.3    275300      Fox      58200000.0   \n",
       "\n",
       "  foreign_gross  year  \n",
       "0           NaN  2016  \n",
       "1       8000000  2012  \n",
       "2       8000000  2012  \n",
       "3       8000000  2012  \n",
       "4     129900000  2013  "
      ]
     },
     "execution_count": 27,
     "metadata": {},
     "output_type": "execute_result"
    }
   ],
   "source": [
    "df.head()"
   ]
  },
  {
   "cell_type": "code",
   "execution_count": 28,
   "metadata": {},
   "outputs": [
    {
     "data": {
      "text/plain": [
       "(2447, 12)"
      ]
     },
     "execution_count": 28,
     "metadata": {},
     "output_type": "execute_result"
    }
   ],
   "source": [
    "df.shape"
   ]
  },
  {
   "cell_type": "code",
   "execution_count": 29,
   "metadata": {
    "scrolled": true
   },
   "outputs": [
    {
     "name": "stdout",
     "output_type": "stream",
     "text": [
      "<class 'pandas.core.frame.DataFrame'>\n",
      "Int64Index: 2447 entries, 0 to 2446\n",
      "Data columns (total 12 columns):\n",
      " #   Column           Non-Null Count  Dtype  \n",
      "---  ------           --------------  -----  \n",
      " 0   tconst           2447 non-null   object \n",
      " 1   primary_title    2447 non-null   object \n",
      " 2   original_title   2447 non-null   object \n",
      " 3   start_year       2447 non-null   int64  \n",
      " 4   runtime_minutes  2402 non-null   float64\n",
      " 5   genres           2443 non-null   object \n",
      " 6   averagerating    2447 non-null   float64\n",
      " 7   numvotes         2447 non-null   int64  \n",
      " 8   studio           2444 non-null   object \n",
      " 9   domestic_gross   2429 non-null   float64\n",
      " 10  foreign_gross    1573 non-null   object \n",
      " 11  year             2447 non-null   int64  \n",
      "dtypes: float64(3), int64(3), object(6)\n",
      "memory usage: 248.5+ KB\n"
     ]
    }
   ],
   "source": [
    "df.info()"
   ]
  },
  {
   "cell_type": "markdown",
   "metadata": {},
   "source": [
    "Now this is the data that we use for the analysis, but we first need to clean it. There are missing values on runtime_minutes,genres,studio, domestic_gross and foreign_gross columns."
   ]
  },
  {
   "cell_type": "markdown",
   "metadata": {},
   "source": [
    "\n",
    "## Data cleaning"
   ]
  },
  {
   "cell_type": "markdown",
   "metadata": {},
   "source": [
    "Now that we have merged all our three datasets, we are now head to cleaning it before we do the analysis."
   ]
  },
  {
   "cell_type": "code",
   "execution_count": 30,
   "metadata": {},
   "outputs": [
    {
     "data": {
      "text/html": [
       "<div>\n",
       "<style scoped>\n",
       "    .dataframe tbody tr th:only-of-type {\n",
       "        vertical-align: middle;\n",
       "    }\n",
       "\n",
       "    .dataframe tbody tr th {\n",
       "        vertical-align: top;\n",
       "    }\n",
       "\n",
       "    .dataframe thead th {\n",
       "        text-align: right;\n",
       "    }\n",
       "</style>\n",
       "<table border=\"1\" class=\"dataframe\">\n",
       "  <thead>\n",
       "    <tr style=\"text-align: right;\">\n",
       "      <th></th>\n",
       "      <th>start_year</th>\n",
       "      <th>runtime_minutes</th>\n",
       "      <th>averagerating</th>\n",
       "      <th>numvotes</th>\n",
       "      <th>domestic_gross</th>\n",
       "      <th>year</th>\n",
       "    </tr>\n",
       "  </thead>\n",
       "  <tbody>\n",
       "    <tr>\n",
       "      <th>count</th>\n",
       "      <td>2447.000000</td>\n",
       "      <td>2402.000000</td>\n",
       "      <td>2447.000000</td>\n",
       "      <td>2.447000e+03</td>\n",
       "      <td>2.429000e+03</td>\n",
       "      <td>2447.000000</td>\n",
       "    </tr>\n",
       "    <tr>\n",
       "      <th>mean</th>\n",
       "      <td>2013.774418</td>\n",
       "      <td>106.810575</td>\n",
       "      <td>6.406293</td>\n",
       "      <td>7.273033e+04</td>\n",
       "      <td>3.612440e+07</td>\n",
       "      <td>2014.001635</td>\n",
       "    </tr>\n",
       "    <tr>\n",
       "      <th>std</th>\n",
       "      <td>2.496398</td>\n",
       "      <td>20.061202</td>\n",
       "      <td>1.045029</td>\n",
       "      <td>1.345874e+05</td>\n",
       "      <td>6.952373e+07</td>\n",
       "      <td>2.464797</td>\n",
       "    </tr>\n",
       "    <tr>\n",
       "      <th>min</th>\n",
       "      <td>2010.000000</td>\n",
       "      <td>3.000000</td>\n",
       "      <td>1.600000</td>\n",
       "      <td>5.000000e+00</td>\n",
       "      <td>1.000000e+02</td>\n",
       "      <td>2010.000000</td>\n",
       "    </tr>\n",
       "    <tr>\n",
       "      <th>25%</th>\n",
       "      <td>2012.000000</td>\n",
       "      <td>94.000000</td>\n",
       "      <td>5.800000</td>\n",
       "      <td>3.776000e+03</td>\n",
       "      <td>3.020000e+05</td>\n",
       "      <td>2012.000000</td>\n",
       "    </tr>\n",
       "    <tr>\n",
       "      <th>50%</th>\n",
       "      <td>2014.000000</td>\n",
       "      <td>104.000000</td>\n",
       "      <td>6.500000</td>\n",
       "      <td>2.074600e+04</td>\n",
       "      <td>5.100000e+06</td>\n",
       "      <td>2014.000000</td>\n",
       "    </tr>\n",
       "    <tr>\n",
       "      <th>75%</th>\n",
       "      <td>2016.000000</td>\n",
       "      <td>118.000000</td>\n",
       "      <td>7.100000</td>\n",
       "      <td>8.063900e+04</td>\n",
       "      <td>4.300000e+07</td>\n",
       "      <td>2016.000000</td>\n",
       "    </tr>\n",
       "    <tr>\n",
       "      <th>max</th>\n",
       "      <td>2019.000000</td>\n",
       "      <td>186.000000</td>\n",
       "      <td>9.200000</td>\n",
       "      <td>1.841066e+06</td>\n",
       "      <td>7.001000e+08</td>\n",
       "      <td>2018.000000</td>\n",
       "    </tr>\n",
       "  </tbody>\n",
       "</table>\n",
       "</div>"
      ],
      "text/plain": [
       "        start_year  runtime_minutes  averagerating      numvotes  \\\n",
       "count  2447.000000      2402.000000    2447.000000  2.447000e+03   \n",
       "mean   2013.774418       106.810575       6.406293  7.273033e+04   \n",
       "std       2.496398        20.061202       1.045029  1.345874e+05   \n",
       "min    2010.000000         3.000000       1.600000  5.000000e+00   \n",
       "25%    2012.000000        94.000000       5.800000  3.776000e+03   \n",
       "50%    2014.000000       104.000000       6.500000  2.074600e+04   \n",
       "75%    2016.000000       118.000000       7.100000  8.063900e+04   \n",
       "max    2019.000000       186.000000       9.200000  1.841066e+06   \n",
       "\n",
       "       domestic_gross         year  \n",
       "count    2.429000e+03  2447.000000  \n",
       "mean     3.612440e+07  2014.001635  \n",
       "std      6.952373e+07     2.464797  \n",
       "min      1.000000e+02  2010.000000  \n",
       "25%      3.020000e+05  2012.000000  \n",
       "50%      5.100000e+06  2014.000000  \n",
       "75%      4.300000e+07  2016.000000  \n",
       "max      7.001000e+08  2018.000000  "
      ]
     },
     "execution_count": 30,
     "metadata": {},
     "output_type": "execute_result"
    }
   ],
   "source": [
    "# Getting a summary statistics of the final merged dataframe(df) columns with numeric values.\n",
    "df.describe()"
   ]
  },
  {
   "cell_type": "code",
   "execution_count": 31,
   "metadata": {},
   "outputs": [
    {
     "data": {
      "text/plain": [
       "tconst               0\n",
       "primary_title        0\n",
       "original_title       0\n",
       "start_year           0\n",
       "runtime_minutes     45\n",
       "genres               4\n",
       "averagerating        0\n",
       "numvotes             0\n",
       "studio               3\n",
       "domestic_gross      18\n",
       "foreign_gross      874\n",
       "year                 0\n",
       "dtype: int64"
      ]
     },
     "execution_count": 31,
     "metadata": {},
     "output_type": "execute_result"
    }
   ],
   "source": [
    "# Checking the number of null values for every column\n",
    "null_values = df.isnull().sum()\n",
    "null_values"
   ]
  },
  {
   "cell_type": "code",
   "execution_count": 32,
   "metadata": {},
   "outputs": [],
   "source": [
    "# Since the missing values in genres and studio is significaltly small, we drop them. It wont affect the analysis.\n",
    "columns = ['studio', 'genres']\n",
    "df.dropna(subset=columns, inplace=True)"
   ]
  },
  {
   "cell_type": "code",
   "execution_count": 33,
   "metadata": {},
   "outputs": [
    {
     "data": {
      "text/plain": [
       "tconst               0\n",
       "primary_title        0\n",
       "original_title       0\n",
       "start_year           0\n",
       "runtime_minutes     43\n",
       "genres               0\n",
       "averagerating        0\n",
       "numvotes             0\n",
       "studio               0\n",
       "domestic_gross      16\n",
       "foreign_gross      873\n",
       "year                 0\n",
       "dtype: int64"
      ]
     },
     "execution_count": 33,
     "metadata": {},
     "output_type": "execute_result"
    }
   ],
   "source": [
    "null_values = df.isnull().sum()\n",
    "null_values"
   ]
  },
  {
   "cell_type": "code",
   "execution_count": 34,
   "metadata": {},
   "outputs": [
    {
     "name": "stdout",
     "output_type": "stream",
     "text": [
      "100.0\n",
      "104.0\n",
      "106.83646224447226\n"
     ]
    }
   ],
   "source": [
    "#Check the runtim_minutes mode, mean and mode to determine which to use to fill the null values.\n",
    "runtime_mode = df['runtime_minutes'].mode().values[0]\n",
    "runtime_median = df['runtime_minutes'].median()\n",
    "runtime_mean = df['runtime_minutes'].mean()\n",
    "print(runtime_mode)\n",
    "print(runtime_median)\n",
    "print(runtime_mean)"
   ]
  },
  {
   "cell_type": "code",
   "execution_count": 35,
   "metadata": {},
   "outputs": [
    {
     "name": "stdout",
     "output_type": "stream",
     "text": [
      "1300000.0\n",
      "5050000.0\n",
      "36115372.06394389\n"
     ]
    }
   ],
   "source": [
    "#Check the domestic_gross mode, mean and mode to determine which to use to fill the null values.\n",
    "domestic_mode = df['domestic_gross'].mode().values[0]\n",
    "domestic_median = df['domestic_gross'].median()\n",
    "domestic_mean = df['domestic_gross'].mean()\n",
    "print(domestic_mode)\n",
    "print(domestic_median)\n",
    "print(domestic_mean)"
   ]
  },
  {
   "cell_type": "markdown",
   "metadata": {},
   "source": [
    "We note that we cannot get the mean of the foreign_gross because it has ',' i.e \"1,019.4\" \n",
    "The ',' needs to be removed for us to be able to compute the measures of central tendency."
   ]
  },
  {
   "cell_type": "code",
   "execution_count": 36,
   "metadata": {
    "scrolled": true
   },
   "outputs": [],
   "source": [
    "# Removing commas from our foreign_gross column values so that we can calculate the measures of central tendencies(Mean,mode,median)\n",
    "df['foreign_gross'] = df['foreign_gross'].str.replace(',', '')"
   ]
  },
  {
   "cell_type": "code",
   "execution_count": 37,
   "metadata": {},
   "outputs": [
    {
     "name": "stdout",
     "output_type": "stream",
     "text": [
      "The forign_gross mode is : 4200000.0\n",
      "The forign_gross median is : 23400000.0\n",
      "The forign_gross mean is : 81652031.13395022\n"
     ]
    }
   ],
   "source": [
    "# we Convert it to float then\n",
    "# Recheck the foreign_gross mode, mean and mode\n",
    "df['foreign_gross'] = df['foreign_gross'].astype(float)\n",
    "foreign_mode = df['foreign_gross'].mode().values[0]\n",
    "foreign_median = df['foreign_gross'].median()\n",
    "foreign_mean = df['foreign_gross'].mean()\n",
    "print('The forign_gross mode is :', foreign_mode)\n",
    "print('The forign_gross median is :', foreign_median)\n",
    "print('The forign_gross mean is :', foreign_mean)"
   ]
  },
  {
   "cell_type": "markdown",
   "metadata": {},
   "source": [
    "The remove_commas funtion has worked perfectly.We now proceed with filling our missing data. I decided to us the mean till the null values."
   ]
  },
  {
   "cell_type": "code",
   "execution_count": 38,
   "metadata": {},
   "outputs": [],
   "source": [
    "df['runtime_minutes'].fillna(runtime_mean, inplace=True)\n",
    "df['domestic_gross'].fillna(domestic_mean, inplace=True)\n",
    "df['foreign_gross'].fillna(foreign_mean, inplace=True)"
   ]
  },
  {
   "cell_type": "code",
   "execution_count": 39,
   "metadata": {},
   "outputs": [
    {
     "data": {
      "text/plain": [
       "tconst             0\n",
       "primary_title      0\n",
       "original_title     0\n",
       "start_year         0\n",
       "runtime_minutes    0\n",
       "genres             0\n",
       "averagerating      0\n",
       "numvotes           0\n",
       "studio             0\n",
       "domestic_gross     0\n",
       "foreign_gross      0\n",
       "year               0\n",
       "dtype: int64"
      ]
     },
     "execution_count": 39,
     "metadata": {},
     "output_type": "execute_result"
    }
   ],
   "source": [
    "# Check for missing values again\n",
    "null_values = df.isnull().sum()\n",
    "null_values"
   ]
  },
  {
   "cell_type": "markdown",
   "metadata": {},
   "source": [
    "We have filled our null values with the mean of each column. Now we are ready to analyze our data."
   ]
  },
  {
   "cell_type": "markdown",
   "metadata": {},
   "source": [
    "# Data Analysis"
   ]
  },
  {
   "cell_type": "markdown",
   "metadata": {},
   "source": [
    "#### Feature engineering"
   ]
  },
  {
   "cell_type": "markdown",
   "metadata": {},
   "source": [
    "We need to create a column named total revenue which is the sum of domestic_gross and foreign_gross."
   ]
  },
  {
   "cell_type": "code",
   "execution_count": 40,
   "metadata": {},
   "outputs": [],
   "source": [
    "# Create a column named total_revenue and input the sum of  domestic_gross and foreign_gross.\n",
    "df['total_revenue'] = df['domestic_gross'] + df['foreign_gross']"
   ]
  },
  {
   "cell_type": "code",
   "execution_count": 41,
   "metadata": {
    "scrolled": true
   },
   "outputs": [
    {
     "data": {
      "text/html": [
       "<div>\n",
       "<style scoped>\n",
       "    .dataframe tbody tr th:only-of-type {\n",
       "        vertical-align: middle;\n",
       "    }\n",
       "\n",
       "    .dataframe tbody tr th {\n",
       "        vertical-align: top;\n",
       "    }\n",
       "\n",
       "    .dataframe thead th {\n",
       "        text-align: right;\n",
       "    }\n",
       "</style>\n",
       "<table border=\"1\" class=\"dataframe\">\n",
       "  <thead>\n",
       "    <tr style=\"text-align: right;\">\n",
       "      <th></th>\n",
       "      <th>tconst</th>\n",
       "      <th>primary_title</th>\n",
       "      <th>original_title</th>\n",
       "      <th>start_year</th>\n",
       "      <th>runtime_minutes</th>\n",
       "      <th>genres</th>\n",
       "      <th>averagerating</th>\n",
       "      <th>numvotes</th>\n",
       "      <th>studio</th>\n",
       "      <th>domestic_gross</th>\n",
       "      <th>foreign_gross</th>\n",
       "      <th>year</th>\n",
       "      <th>total_revenue</th>\n",
       "    </tr>\n",
       "  </thead>\n",
       "  <tbody>\n",
       "    <tr>\n",
       "      <th>0</th>\n",
       "      <td>tt0315642</td>\n",
       "      <td>Wazir</td>\n",
       "      <td>Wazir</td>\n",
       "      <td>2016</td>\n",
       "      <td>103.0</td>\n",
       "      <td>Action,Crime,Drama</td>\n",
       "      <td>7.1</td>\n",
       "      <td>15378</td>\n",
       "      <td>Relbig.</td>\n",
       "      <td>1100000.0</td>\n",
       "      <td>8.165203e+07</td>\n",
       "      <td>2016</td>\n",
       "      <td>8.275203e+07</td>\n",
       "    </tr>\n",
       "    <tr>\n",
       "      <th>1</th>\n",
       "      <td>tt0337692</td>\n",
       "      <td>On the Road</td>\n",
       "      <td>On the Road</td>\n",
       "      <td>2012</td>\n",
       "      <td>124.0</td>\n",
       "      <td>Adventure,Drama,Romance</td>\n",
       "      <td>6.1</td>\n",
       "      <td>37886</td>\n",
       "      <td>IFC</td>\n",
       "      <td>744000.0</td>\n",
       "      <td>8.000000e+06</td>\n",
       "      <td>2012</td>\n",
       "      <td>8.744000e+06</td>\n",
       "    </tr>\n",
       "    <tr>\n",
       "      <th>2</th>\n",
       "      <td>tt4339118</td>\n",
       "      <td>On the Road</td>\n",
       "      <td>On the Road</td>\n",
       "      <td>2014</td>\n",
       "      <td>89.0</td>\n",
       "      <td>Drama</td>\n",
       "      <td>6.0</td>\n",
       "      <td>6</td>\n",
       "      <td>IFC</td>\n",
       "      <td>744000.0</td>\n",
       "      <td>8.000000e+06</td>\n",
       "      <td>2012</td>\n",
       "      <td>8.744000e+06</td>\n",
       "    </tr>\n",
       "    <tr>\n",
       "      <th>3</th>\n",
       "      <td>tt5647250</td>\n",
       "      <td>On the Road</td>\n",
       "      <td>On the Road</td>\n",
       "      <td>2016</td>\n",
       "      <td>121.0</td>\n",
       "      <td>Drama</td>\n",
       "      <td>5.7</td>\n",
       "      <td>127</td>\n",
       "      <td>IFC</td>\n",
       "      <td>744000.0</td>\n",
       "      <td>8.000000e+06</td>\n",
       "      <td>2012</td>\n",
       "      <td>8.744000e+06</td>\n",
       "    </tr>\n",
       "    <tr>\n",
       "      <th>4</th>\n",
       "      <td>tt0359950</td>\n",
       "      <td>The Secret Life of Walter Mitty</td>\n",
       "      <td>The Secret Life of Walter Mitty</td>\n",
       "      <td>2013</td>\n",
       "      <td>114.0</td>\n",
       "      <td>Adventure,Comedy,Drama</td>\n",
       "      <td>7.3</td>\n",
       "      <td>275300</td>\n",
       "      <td>Fox</td>\n",
       "      <td>58200000.0</td>\n",
       "      <td>1.299000e+08</td>\n",
       "      <td>2013</td>\n",
       "      <td>1.881000e+08</td>\n",
       "    </tr>\n",
       "  </tbody>\n",
       "</table>\n",
       "</div>"
      ],
      "text/plain": [
       "      tconst                    primary_title  \\\n",
       "0  tt0315642                            Wazir   \n",
       "1  tt0337692                      On the Road   \n",
       "2  tt4339118                      On the Road   \n",
       "3  tt5647250                      On the Road   \n",
       "4  tt0359950  The Secret Life of Walter Mitty   \n",
       "\n",
       "                    original_title  start_year  runtime_minutes  \\\n",
       "0                            Wazir        2016            103.0   \n",
       "1                      On the Road        2012            124.0   \n",
       "2                      On the Road        2014             89.0   \n",
       "3                      On the Road        2016            121.0   \n",
       "4  The Secret Life of Walter Mitty        2013            114.0   \n",
       "\n",
       "                    genres  averagerating  numvotes   studio  domestic_gross  \\\n",
       "0       Action,Crime,Drama            7.1     15378  Relbig.       1100000.0   \n",
       "1  Adventure,Drama,Romance            6.1     37886      IFC        744000.0   \n",
       "2                    Drama            6.0         6      IFC        744000.0   \n",
       "3                    Drama            5.7       127      IFC        744000.0   \n",
       "4   Adventure,Comedy,Drama            7.3    275300      Fox      58200000.0   \n",
       "\n",
       "   foreign_gross  year  total_revenue  \n",
       "0   8.165203e+07  2016   8.275203e+07  \n",
       "1   8.000000e+06  2012   8.744000e+06  \n",
       "2   8.000000e+06  2012   8.744000e+06  \n",
       "3   8.000000e+06  2012   8.744000e+06  \n",
       "4   1.299000e+08  2013   1.881000e+08  "
      ]
     },
     "execution_count": 41,
     "metadata": {},
     "output_type": "execute_result"
    }
   ],
   "source": [
    "df.head()\n",
    "# First five rows of the new data set"
   ]
  },
  {
   "cell_type": "markdown",
   "metadata": {},
   "source": [
    "### Genre analysis"
   ]
  },
  {
   "cell_type": "markdown",
   "metadata": {},
   "source": [
    "Here we will analyze:\n",
    "1. Relationship between genre and ratings.\n",
    "2. Relationship between genre and revenue."
   ]
  },
  {
   "cell_type": "markdown",
   "metadata": {},
   "source": [
    "##### Relationship between genre and ratings."
   ]
  },
  {
   "cell_type": "code",
   "execution_count": 42,
   "metadata": {
    "scrolled": true
   },
   "outputs": [
    {
     "name": "stdout",
     "output_type": "stream",
     "text": [
      "                             genres  averagerating\n",
      "70                        Adventure            9.2\n",
      "67                     Action,Sport            8.4\n",
      "96           Adventure,Drama,Sci-Fi            8.3\n",
      "128    Biography,Documentary,Family            8.3\n",
      "267                         Fantasy            8.2\n",
      "222               Documentary,Sport            8.2\n",
      "155        Comedy,Documentary,Drama            8.2\n",
      "133  Biography,Documentary,Thriller            8.1\n",
      "72        Adventure,Animation,Drama            8.1\n",
      "217         Documentary,History,War            8.0\n"
     ]
    },
    {
     "data": {
      "image/png": "[encoded data removed]",
      "text/plain": [
       "<Figure size 720x432 with 1 Axes>"
      ]
     },
     "metadata": {
      "needs_background": "light"
     },
     "output_type": "display_data"
    }
   ],
   "source": [
    "# Grouping by genres and calculating  the average rating for indidual genre\n",
    "genre_ratings = df.groupby('genres')['averagerating'].mean().reset_index()\n",
    "# Sorting genres by average rating in a descending order\n",
    "top_10_genre = genre_ratings.sort_values(by='averagerating', ascending=False).head(10)\n",
    "# Bar plot to show the top ten genres based on the average ratings.\n",
    "plt.figure(figsize=(10, 6))\n",
    "sns.barplot(data=top_10_genre, x='averagerating', y='genres', ci=None, orient='h')\n",
    "plt.xlabel('Average Rating')\n",
    "plt.ylabel('Genre')\n",
    "plt.title('Top 10 Genres Based on Average Rating')\n",
    "print(top_10_genre)\n",
    "plt.show()"
   ]
  },
  {
   "cell_type": "markdown",
   "metadata": {},
   "source": [
    "The analysis above shows that adventure movies has the highest ratings and is the most popular movie genre.Its liked by most people."
   ]
  },
  {
   "cell_type": "markdown",
   "metadata": {},
   "source": [
    "##### Relationship between genre and revenue."
   ]
  },
  {
   "cell_type": "code",
   "execution_count": 43,
   "metadata": {},
   "outputs": [
    {
     "name": "stdout",
     "output_type": "stream",
     "text": [
      "1605       Action,Adventure,Sci-Fi\n",
      "1126       Action,Adventure,Sci-Fi\n",
      "2231       Action,Adventure,Sci-Fi\n",
      "432          Adventure,Drama,Sport\n",
      "433     Adventure,Animation,Comedy\n",
      "1981    Action,Adventure,Animation\n",
      "1508    Adventure,Animation,Comedy\n",
      "1950       Action,Adventure,Sci-Fi\n",
      "627       Action,Adventure,Fantasy\n",
      "501        Action,Adventure,Sci-Fi\n",
      "Name: genres, dtype: object\n"
     ]
    },
    {
     "data": {
      "image/png": "[encoded data removed]",
      "text/plain": [
       "<Figure size 1080x432 with 1 Axes>"
      ]
     },
     "metadata": {
      "needs_background": "light"
     },
     "output_type": "display_data"
    }
   ],
   "source": [
    "# Sorting genres by average rating in a descending order\n",
    "top_10_revenue = df.sort_values(by='total_revenue', ascending=False).head(10)\n",
    "# Bar plot to show the top ten genres based on the average ratings.\n",
    "plt.figure(figsize=(15, 6))\n",
    "sns.barplot(data=top_10_revenue, x= 'genres', y='averagerating', ci=None)\n",
    "plt.xlabel('Genre')\n",
    "plt.ylabel('Total revenue')\n",
    "plt.title('Top 10 Genres Based on Total Revenue generated')\n",
    "print(top_10_revenue[\"genres\"])\n",
    "plt.show()"
   ]
  },
  {
   "cell_type": "markdown",
   "metadata": {},
   "source": [
    "The analysis shows that  Action,Adventure,Sci-Fi generated the most revenue."
   ]
  },
  {
   "cell_type": "markdown",
   "metadata": {},
   "source": [
    "## Correlation analysis"
   ]
  },
  {
   "cell_type": "markdown",
   "metadata": {},
   "source": [
    "Here we are going to check the relationship between:\n",
    "1. Runtime and ratings.\n",
    "2. Revenue and ratings.\n",
    "3. Revenue and runtime."
   ]
  },
  {
   "cell_type": "markdown",
   "metadata": {},
   "source": [
    "##### Runtime and ratings."
   ]
  },
  {
   "cell_type": "code",
   "execution_count": 44,
   "metadata": {},
   "outputs": [
    {
     "name": "stdout",
     "output_type": "stream",
     "text": [
      "Correlation between runtime and ratings: 0.12499951180773769\n"
     ]
    }
   ],
   "source": [
    "# Correlation between runtime and ratings calculation\n",
    "run_rate_corr = df['runtime_minutes'].corr(df['averagerating'])\n",
    "\n",
    "print(f\"Correlation between runtime and ratings: {run_rate_corr}\")"
   ]
  },
  {
   "cell_type": "code",
   "execution_count": 45,
   "metadata": {},
   "outputs": [
    {
     "data": {
      "image/png": "[encoded data removed]",
      "text/plain": [
       "<Figure size 432x288 with 1 Axes>"
      ]
     },
     "metadata": {
      "needs_background": "light"
     },
     "output_type": "display_data"
    }
   ],
   "source": [
    "# Visualizing the correlation in a scatterplot.\n",
    "plt.scatter(df['runtime_minutes'], df['averagerating'])\n",
    "plt.xlabel('Runtime')\n",
    "plt.ylabel('Ratings')\n",
    "plt.title('Scatter Plot of Runtime vs. Ratings')\n",
    "plt.show()"
   ]
  },
  {
   "cell_type": "markdown",
   "metadata": {},
   "source": [
    "This shows that there is a positive but very weak correlation between runtime and ratings. \n",
    "The runtime does not have significant impact on movie genre ratings."
   ]
  },
  {
   "cell_type": "markdown",
   "metadata": {},
   "source": [
    "#####  Revenue and ratings.\n"
   ]
  },
  {
   "cell_type": "code",
   "execution_count": 46,
   "metadata": {},
   "outputs": [
    {
     "name": "stdout",
     "output_type": "stream",
     "text": [
      "Correlation between runtime and ratings: 0.15614442728985461\n"
     ]
    }
   ],
   "source": [
    "rev_rate_corr = df['total_revenue'].corr(df['averagerating'])\n",
    "print(f\"Correlation between runtime and ratings: {rev_rate_corr}\")"
   ]
  },
  {
   "cell_type": "code",
   "execution_count": 47,
   "metadata": {
    "scrolled": true
   },
   "outputs": [
    {
     "data": {
      "image/png": "[encoded data removed]",
      "text/plain": [
       "<Figure size 720x432 with 2 Axes>"
      ]
     },
     "metadata": {
      "needs_background": "light"
     },
     "output_type": "display_data"
    }
   ],
   "source": [
    "#Visualizing the correlation using a correlation heatmap\n",
    "RevRat_df = df[['total_revenue', 'averagerating']]\n",
    "correlation_matrix = RevRat_df.corr()\n",
    "\n",
    "plt.figure(figsize=(10, 6))\n",
    "sns.heatmap(correlation_matrix, annot=True, cmap='coolwarm', fmt=\".2f\")\n",
    "plt.title('Correlation Matrix Heatmap for Revenue vs. Ratings')\n",
    "plt.show()"
   ]
  },
  {
   "cell_type": "markdown",
   "metadata": {},
   "source": [
    "This analysis also shows us that there a positive but very weak correlation between total revenue and the movie rating. \n",
    "The ratings does not have a significant impact on the revenue generated."
   ]
  },
  {
   "cell_type": "markdown",
   "metadata": {},
   "source": [
    "##### Revenue and runtime."
   ]
  },
  {
   "cell_type": "code",
   "execution_count": 48,
   "metadata": {},
   "outputs": [
    {
     "name": "stdout",
     "output_type": "stream",
     "text": [
      "Correlation between runtime and ratings: 0.12499951180773769\n"
     ]
    }
   ],
   "source": [
    "run_revenue_corr = df['runtime_minutes'].corr(df['total_revenue'])\n",
    "\n",
    "print(f\"Correlation between runtime and ratings: {run_rate_corr}\")"
   ]
  },
  {
   "cell_type": "code",
   "execution_count": 49,
   "metadata": {
    "scrolled": false
   },
   "outputs": [
    {
     "data": {
      "image/png": "[encoded data removed]",
      "text/plain": [
       "<Figure size 360x360 with 6 Axes>"
      ]
     },
     "metadata": {
      "needs_background": "light"
     },
     "output_type": "display_data"
    }
   ],
   "source": [
    "# Plotting a pirplot of the correlation between runtime ans total revenue.\n",
    "sns.pairplot(df[['runtime_minutes', 'total_revenue']])\n",
    "plt.show()"
   ]
  },
  {
   "cell_type": "markdown",
   "metadata": {},
   "source": [
    "This also shows us that there a positive but very weak correlation between total revenue and the movie rating. The runtime does not affect the revenue."
   ]
  },
  {
   "cell_type": "markdown",
   "metadata": {},
   "source": [
    "# Conclusion"
   ]
  },
  {
   "cell_type": "markdown",
   "metadata": {},
   "source": [
    "From my analysis above, I have drawn the following conclusions :\n",
    "1. The most popular movie genre based on ratings is Adventure.\n",
    "2. The most profitable movie genre in terms of total revenue generated both domestically and foreign is Action,Adventure,Sci-Fi.\n",
    "3. Movie ratings does not have any significant impact on total revenue neither does the runtime on the movies ratings and total revenue."
   ]
  },
  {
   "cell_type": "markdown",
   "metadata": {},
   "source": [
    "# Recommendations"
   ]
  },
  {
   "cell_type": "markdown",
   "metadata": {},
   "source": [
    "1. Microsoft should go for production of Action,Adventure and Sci-Fi genre movies as they venture into film production and\n",
    "   setting up their new studio. This is because this genres generate good revenue both foreign and locally \n",
    "   based on analysis from IMDB data.\n",
    "\n",
    "2. Based on ratings microsoft can venture into production of Adventure genre movies. This is because it is rated high and are the most popular among movie lovers.\n",
    "\n",
    "3. Microsoft should not  worry about the length of the movie they produce because it does not have significant impact \n",
    "   revenue or ratings. This is based on the corelation analyis of runtime and revenue and ratings.\n",
    "  \n",
    "   "
   ]
  }
 ],
 "metadata": {
  "kernelspec": {
   "display_name": "Python 3",
   "language": "python",
   "name": "python3"
  },
  "language_info": {
   "codemirror_mode": {
    "name": "ipython",
    "version": 3
   },
   "file_extension": ".py",
   "mimetype": "text/x-python",
   "name": "python",
   "nbconvert_exporter": "python",
   "pygments_lexer": "ipython3",
   "version": "3.8.5"
  }
 },
 "nbformat": 4,
 "nbformat_minor": 2
}
